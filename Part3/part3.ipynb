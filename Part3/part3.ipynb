{
 "cells": [
  {
   "cell_type": "markdown",
   "id": "2249078461bec40c",
   "metadata": {
    "collapsed": false
   },
   "source": [
    "## Step 0. Folder Structure\n",
    "```\n",
    "3. Deep Learning Project/\n",
    "├── dataset_split/\n",
    "│   ├── train/\n",
    "│   │   ├── african_elephant (780 images)\n",
    "│   │   ├── airliner (780 images)\n",
    "│   │   └── ... (8 more folders)\n",
    "│   ├── val/\n",
    "│   │   ├── african_elephant (260 images)\n",
    "│   │   ├── airliner (260 images)\n",
    "│   │   └── ... (8 more folders)\n",
    "│   └── test (2600 images)\n",
    "├── data_preprocessed/\n",
    "│   ├── labels_train.pt\n",
    "│   ├── labels_val.pt\n",
    "│   ├── tensor_test.pt\n",
    "│   ├── tensor_train.pt\n",
    "│   └── tensor_val.pt\n",
    "├── models/\n",
    "│   ├── resnet18_checkpoint.pkl\n",
    "│   └── resnet34_checkpoint.pkl\n",
    "├── src/\n",
    "│   └── part3.ipynb\n",
    "├── src_datasplit/\n",
    "│   └── data_split.ipynb\n",
    "├── MSA.yaml\n",
    "├── README.md\n",
    "└── IEEE_Report_Template.docx\n",
    "```\n"
   ]
  },
  {
   "cell_type": "code",
   "execution_count": 1,
   "id": "feff9f82a794ed57",
   "metadata": {
    "ExecuteTime": {
     "end_time": "2025-05-10T03:43:05.563885Z",
     "start_time": "2025-05-10T03:43:05.550616Z"
    },
    "collapsed": false
   },
   "outputs": [],
   "source": [
    "# TODO: Import the libraries.\n",
    "from typing import Tuple, List\n",
    "import os\n",
    "import cv2\n",
    "from tqdm import tqdm\n",
    "import numpy as np\n",
    "import torch\n",
    "import torchvision\n",
    "import torch.nn as nn\n",
    "import torch.nn.functional as F\n",
    "from collections import OrderedDict\n",
    "import copy\n",
    "import matplotlib.pyplot as plt\n",
    "import csv\n",
    "from collections import Counter\n",
    "from torch.utils.data import TensorDataset, DataLoader\n"
   ]
  },
  {
   "cell_type": "code",
   "execution_count": 2,
   "id": "7db3acac",
   "metadata": {},
   "outputs": [],
   "source": [
    "# Set the random seed for reproducibility.\n",
    "import random\n",
    "\n",
    "seed = 42\n",
    "random.seed(seed)\n",
    "np.random.seed(seed)\n",
    "torch.manual_seed(seed)\n",
    "torch.cuda.manual_seed(seed)\n",
    "torch.cuda.manual_seed_all(seed)\n",
    "torch.backends.cudnn.deterministic = True\n",
    "torch.backends.cudnn.benchmark = False"
   ]
  },
  {
   "cell_type": "markdown",
   "id": "129404feccd45358",
   "metadata": {
    "collapsed": false
   },
   "source": [
    "## Step 1 Preprocessing\n",
    "1. Load images and labels from folders into lists.\n",
    "2. Resize the images.\n",
    "3. Convert the image data type as float32 and limit the range in [0, 1].\n",
    "4. Convert data from NHWC to NCHW and creat a PyTorch tensor from it.\n",
    "5. Per-channel standardization of the dataset using training set statistics (mean and std computed independently for each color channel).\n",
    "6. Saving the pre-processed sets as .pt files in the correct directory.\n",
    "7. Load the pre-processed sets from .pt files. "
   ]
  },
  {
   "cell_type": "markdown",
   "id": "779b1b7a",
   "metadata": {},
   "source": [
    "### - TODO: 1. Load images from folder into a list."
   ]
  },
  {
   "cell_type": "code",
   "execution_count": 3,
   "id": "initial_id",
   "metadata": {
    "ExecuteTime": {
     "end_time": "2025-05-10T03:38:13.117713Z",
     "start_time": "2025-05-10T03:38:13.110009Z"
    },
    "collapsed": true
   },
   "outputs": [],
   "source": [
    "# TODO: 1. Load images from folder into a list.\n",
    "def image_loader(set_dir: str) -> Tuple[List[np.ndarray], List[str]]:\n",
    "    \"\"\"\n",
    "    Load all images from a dataset directory (train/val/test) into memory.\n",
    "    Make sure:\n",
    "        1. Load training and validation set images and labels in the correct order.\n",
    "        2. Load testing set images in filename order (e.g., 0.jpg, 1.jpg, ...).\n",
    "    \n",
    "    Parameters:\n",
    "    -----------\n",
    "    set_dir : str\n",
    "        Path to the directory containing either:\n",
    "        - Class subdirectories (for train/val sets)\n",
    "        - Direct image files (for test set)\n",
    "        \n",
    "    Returns:\n",
    "    --------\n",
    "    Tuple[List[np.ndarray], List[str]]\n",
    "        images: List of BGR images (HWC format, uint8 dtype)\n",
    "        labels: List of string labels (empty for test set)\n",
    "        \n",
    "    Example:\n",
    "    --------\n",
    "    >>> images_train, labels_train = image_loader(\"../dataset_split/train\")\n",
    "    >>> images_test, _ = image_loader(\"../dataset_split/test\")\n",
    "    \"\"\"\n",
    "    # Initialize lists to hold images and labels\n",
    "    images = []\n",
    "    labels = []\n",
    "    \n",
    "\n",
    "    is_test_set = True  # Initially assume it's a test set\n",
    "    \n",
    "    # Check if the directory contains subdirectories (indicating train/val set)\n",
    "    for file_name in os.listdir(set_dir):\n",
    "        file_path = os.path.join(set_dir, file_name)\n",
    "        if not os.path.isfile(file_path):\n",
    "            is_test_set = False\n",
    "            break  # Found a subdirectory, so it's not a test set\n",
    "\n",
    "\n",
    "    if is_test_set:\n",
    "        # Test set: load images in filename order\n",
    "        for filename in sorted(os.listdir(set_dir), key=lambda x: int(x.split('.')[0])):   # Sort by numeric order\n",
    "            file_path = os.path.join(set_dir, filename)   # File path to the image\n",
    "            image = cv2.imread(file_path)\n",
    "            if image is not None:\n",
    "                images.append(image)\n",
    "        labels = []  # Test set has no labels, so we return an empty list\n",
    "    else:\n",
    "        # Train/Val set: load images and labels from class subdirectories\n",
    "        class_dirs = sorted(os.listdir(set_dir))\n",
    "        for class_dir in class_dirs:     # Iterate through each class directory\n",
    "            class_path = os.path.join(set_dir, class_dir)\n",
    "            for filename in sorted(os.listdir(class_path)):   # Iterate each file in the class directory\n",
    "                file_path = os.path.join(class_path, filename)\n",
    "                image = cv2.imread(file_path)\n",
    "                if image is not None:\n",
    "                    images.append(image)\n",
    "                    labels.append(class_dir)\n",
    "\n",
    "    # Return the loaded images and labels           \n",
    "    return images, labels\n",
    "\n"
   ]
  },
  {
   "cell_type": "markdown",
   "id": "4d38ad98",
   "metadata": {},
   "source": [
    "### - TODO: 2. Resize images."
   ]
  },
  {
   "cell_type": "code",
   "execution_count": 4,
   "id": "e9151a560c344fe2",
   "metadata": {
    "ExecuteTime": {
     "end_time": "2025-05-10T03:38:13.472357Z",
     "start_time": "2025-05-10T03:38:13.460924Z"
    },
    "collapsed": false
   },
   "outputs": [],
   "source": [
    "# TODO: 2. Resize images.\n",
    "def img_resize(images: List[np.ndarray], target_size: int = 224) -> np.ndarray:\n",
    "    \"\"\"\n",
    "    Resize images with the shortest edge to target_size and perform center cropping to square dimensions.\n",
    "    \n",
    "    Args:\n",
    "        images: List of input images in BGR format (OpenCV default) with shape (H, W, C)\n",
    "        target_size: Desired output size (both width and height after cropping). Default 224.\n",
    "        \n",
    "    Returns:\n",
    "        Stacked numpy array of processed images with shape (N, target_size, target_size, 3)\n",
    "        where N is the number of input images\n",
    "        \n",
    "    Raises:\n",
    "        ValueError: If input images have inconsistent channels or invalid dimensions\n",
    "        \n",
    "    Notes:\n",
    "        - Preserves original aspect ratio during resizing\n",
    "        - Performs center cropping to exact square dimensions\n",
    "        - Maintains uint8 dtype unless conversion forces float32\n",
    "        \n",
    "    Example:\n",
    "        >>> imgs = [cv2.imread('test.jpg')]  # List of BGR images\n",
    "        >>> processed = img_resize(imgs)\n",
    "        >>> processed.shape  # (1, 224, 224, 3)\n",
    "    \"\"\"\n",
    "    \n",
    "    # Check if images list is empty \n",
    "    if not images:\n",
    "        return np.array([])\n",
    "\n",
    "    # Initialize list to hold processed images\n",
    "    processed_images = []\n",
    "\n",
    "    # Iterate through each image\n",
    "    for image in images:\n",
    "        # Check if the image is valid\n",
    "        if image is None or len(image.shape) != 3 or image.shape[2] != 3:\n",
    "            raise ValueError(\"Invalid image dimensions or inconsistent channels\")  # Error if image is not a valid BGR image\n",
    "        \n",
    "        # Get original dimensions\n",
    "        h, w, c = image.shape\n",
    "\n",
    "        # Resize the image while maintaining aspect ratio\n",
    "        scale = target_size / min(h, w)  # Calculate scale factor based on shortest edge\n",
    "        new_h, new_w = round(h * scale), round(w * scale)\n",
    "        resized_image = cv2.resize(image, (new_w, new_h))\n",
    "\n",
    "        # Center crop to square dimensions\n",
    "        left = (new_w - target_size) // 2\n",
    "        top = (new_h - target_size) // 2\n",
    "        croped_image = resized_image[top:top + target_size, left:left + target_size]\n",
    "\n",
    "        # Append the processed image to the list\n",
    "        processed_images.append(croped_image)\n",
    "        \n",
    "    return np.stack(processed_images)\n",
    "    "
   ]
  },
  {
   "cell_type": "code",
   "execution_count": 5,
   "id": "bd1862b268144556",
   "metadata": {
    "ExecuteTime": {
     "end_time": "2025-05-10T03:38:39.249145Z",
     "start_time": "2025-05-10T03:38:14.305937Z"
    },
    "collapsed": false
   },
   "outputs": [],
   "source": [
    "# Load images\n",
    "\n",
    "images_train, labels_train = image_loader(\"../dataset_split/train\")\n",
    "images_val, labels_val = image_loader(\"../dataset_split/val\")\n",
    "images_test, _ = image_loader(\"../dataset_split/test\")"
   ]
  },
  {
   "cell_type": "code",
   "execution_count": 6,
   "id": "1975435fea13d751",
   "metadata": {
    "ExecuteTime": {
     "end_time": "2025-05-10T03:39:17.095684Z",
     "start_time": "2025-05-10T03:38:57.883480Z"
    },
    "collapsed": false
   },
   "outputs": [],
   "source": [
    "# Resize the images\n",
    "\n",
    "images_train = img_resize(images_train, 224)\n",
    "images_val = img_resize(images_val, 224)\n",
    "images_test = img_resize(images_test, 224)"
   ]
  },
  {
   "cell_type": "markdown",
   "id": "ad0fff5c",
   "metadata": {},
   "source": [
    "### - TODO: 3. Convert the image data type as float32 and limit the range in [0, 1]."
   ]
  },
  {
   "cell_type": "code",
   "execution_count": 7,
   "id": "bd71fcddecfefdbf",
   "metadata": {
    "ExecuteTime": {
     "end_time": "2025-05-10T03:39:20.788788Z",
     "start_time": "2025-05-10T03:39:17.097418Z"
    },
    "collapsed": false
   },
   "outputs": [],
   "source": [
    "# TODO: 3. Convert the image data type as float32 and limit the range in [0, 1].\n",
    "\n",
    "images_train = images_train.astype(np.float32) / 255.0\n",
    "images_val = images_val.astype(np.float32) / 255.0\n",
    "images_test = images_test.astype(np.float32) / 255.0"
   ]
  },
  {
   "cell_type": "markdown",
   "id": "9ada230f",
   "metadata": {},
   "source": [
    "### - TODO: 4. Convert data from NHWC to NCHW and creat a PyTorch tensor from it."
   ]
  },
  {
   "cell_type": "code",
   "execution_count": 8,
   "id": "1938cec6018a8176",
   "metadata": {
    "ExecuteTime": {
     "end_time": "2025-05-10T03:39:21.156559Z",
     "start_time": "2025-05-10T03:39:20.789492Z"
    },
    "collapsed": false
   },
   "outputs": [],
   "source": [
    "# TODO: 4. Convert data from NHWC to NCHW and creat a PyTorch tensor from it.\n",
    "\n",
    "tensor_train = torch.from_numpy(np.transpose(images_train, (0, 3, 1, 2)))\n",
    "tensor_val = torch.from_numpy(np.transpose(images_val, (0, 3, 1, 2)))\n",
    "tensor_test = torch.from_numpy(np.transpose(images_test, (0, 3, 1, 2)))"
   ]
  },
  {
   "cell_type": "markdown",
   "id": "e7b47f65",
   "metadata": {},
   "source": [
    "### - TODO: 5. Per-channel standardization of the dataset using training set statistics (mean and std computed independently for each color channel)."
   ]
  },
  {
   "cell_type": "code",
   "execution_count": 9,
   "id": "d584e1b61e015747",
   "metadata": {
    "ExecuteTime": {
     "end_time": "2025-05-10T03:39:32.523629Z",
     "start_time": "2025-05-10T03:39:21.158863Z"
    },
    "collapsed": false
   },
   "outputs": [],
   "source": [
    "# TODO: 5. Per-channel standardization of the dataset using training set statistics (mean and std computed independently for each color channel).\n",
    "\n",
    "train_mean = tensor_train.mean(dim=(0, 2, 3), keepdim=True)\n",
    "train_std = tensor_train.std(dim=(0, 2, 3), keepdim=True)\n",
    "\n",
    "tensor_train = (tensor_train - train_mean) / train_std\n",
    "tensor_val = (tensor_val - train_mean) / train_std\n",
    "tensor_test = (tensor_test - train_mean) / train_std"
   ]
  },
  {
   "cell_type": "markdown",
   "id": "bef96a0c",
   "metadata": {},
   "source": [
    "### - TODO: 6. Save the pre-processed sets as .pt files."
   ]
  },
  {
   "cell_type": "code",
   "execution_count": 10,
   "id": "9f7a684ba9e6561c",
   "metadata": {
    "ExecuteTime": {
     "end_time": "2025-05-10T03:39:41.944582Z",
     "start_time": "2025-05-10T03:39:32.524747Z"
    },
    "collapsed": false
   },
   "outputs": [],
   "source": [
    "# TODO: 6. Save the pre-processed sets as .pt files.\n",
    "\n",
    "# 6.1 Save the tensor_train, tensor_val, and tensor_test as tensor_train.pt, tensor_val.pt, and tensor_test.pt, respectively.\n",
    "torch.save(tensor_train, \"../data_preprocessed/tensor_train.pt\")\n",
    "torch.save(tensor_val, \"../data_preprocessed/tensor_val.pt\")\n",
    "torch.save(tensor_test, \"../data_preprocessed/tensor_test.pt\")\n",
    "\n",
    "# 6.2 Create a list to map index to label and a dictionary to map label to index.\n",
    "#   For instance:\n",
    "#       unique_labels = ['african_elephant', 'airliner', ...]\n",
    "#       label_to_index = {\n",
    "#           'african_elephant': 0,\n",
    "#           'airliner': 1,\n",
    "#           ...\n",
    "#       }\n",
    "unique_labels = sorted(list(set(labels_train)))\n",
    "label_to_index = {label: idx for idx, label in enumerate(unique_labels)}\n",
    "index_to_label = {idx: label for label, idx in label_to_index.items()}\n",
    "\n",
    "# 6.3 Map the labels to index.\n",
    "labels_train_index = np.array([label_to_index[label] for label in labels_train])\n",
    "labels_val_index = np.array([label_to_index[label] for label in labels_val])\n",
    "\n",
    "# 6.4 Save the index, label_to_index, and index_to_label.\n",
    "torch.save(labels_train_index, \"../data_preprocessed/labels_train.pt\")\n",
    "torch.save(labels_val_index, \"../data_preprocessed/labels_val.pt\")\n",
    "torch.save(label_to_index, \"../data_preprocessed/label_to_index.pt\")\n",
    "torch.save(index_to_label, \"../data_preprocessed/index_to_label.pt\")"
   ]
  },
  {
   "cell_type": "markdown",
   "id": "34596a37",
   "metadata": {},
   "source": [
    "### - TODO: 7. Load the pre-processed sets from .pt files. The data can be used directly in future without pre-processing once more by loading from the folder."
   ]
  },
  {
   "cell_type": "code",
   "execution_count": 11,
   "id": "a3a5a646027a826",
   "metadata": {
    "ExecuteTime": {
     "end_time": "2025-05-10T03:39:45.192760Z",
     "start_time": "2025-05-10T03:39:41.946771Z"
    },
    "collapsed": false
   },
   "outputs": [
    {
     "name": "stderr",
     "output_type": "stream",
     "text": [
      "C:\\Users\\Lenovo\\AppData\\Local\\Temp\\ipykernel_17240\\226906326.py:3: FutureWarning: You are using `torch.load` with `weights_only=False` (the current default value), which uses the default pickle module implicitly. It is possible to construct malicious pickle data which will execute arbitrary code during unpickling (See https://github.com/pytorch/pytorch/blob/main/SECURITY.md#untrusted-models for more details). In a future release, the default value for `weights_only` will be flipped to `True`. This limits the functions that could be executed during unpickling. Arbitrary objects will no longer be allowed to be loaded via this mode unless they are explicitly allowlisted by the user via `torch.serialization.add_safe_globals`. We recommend you start setting `weights_only=True` for any use case where you don't have full control of the loaded file. Please open an issue on GitHub for any issues related to this experimental feature.\n",
      "  tensor_train = torch.load(\"../data_preprocessed/tensor_train.pt\")\n",
      "C:\\Users\\Lenovo\\AppData\\Local\\Temp\\ipykernel_17240\\226906326.py:4: FutureWarning: You are using `torch.load` with `weights_only=False` (the current default value), which uses the default pickle module implicitly. It is possible to construct malicious pickle data which will execute arbitrary code during unpickling (See https://github.com/pytorch/pytorch/blob/main/SECURITY.md#untrusted-models for more details). In a future release, the default value for `weights_only` will be flipped to `True`. This limits the functions that could be executed during unpickling. Arbitrary objects will no longer be allowed to be loaded via this mode unless they are explicitly allowlisted by the user via `torch.serialization.add_safe_globals`. We recommend you start setting `weights_only=True` for any use case where you don't have full control of the loaded file. Please open an issue on GitHub for any issues related to this experimental feature.\n",
      "  tensor_val = torch.load(\"../data_preprocessed/tensor_val.pt\")\n",
      "C:\\Users\\Lenovo\\AppData\\Local\\Temp\\ipykernel_17240\\226906326.py:5: FutureWarning: You are using `torch.load` with `weights_only=False` (the current default value), which uses the default pickle module implicitly. It is possible to construct malicious pickle data which will execute arbitrary code during unpickling (See https://github.com/pytorch/pytorch/blob/main/SECURITY.md#untrusted-models for more details). In a future release, the default value for `weights_only` will be flipped to `True`. This limits the functions that could be executed during unpickling. Arbitrary objects will no longer be allowed to be loaded via this mode unless they are explicitly allowlisted by the user via `torch.serialization.add_safe_globals`. We recommend you start setting `weights_only=True` for any use case where you don't have full control of the loaded file. Please open an issue on GitHub for any issues related to this experimental feature.\n",
      "  tensor_test = torch.load(\"../data_preprocessed/tensor_test.pt\")\n",
      "C:\\Users\\Lenovo\\AppData\\Local\\Temp\\ipykernel_17240\\226906326.py:7: FutureWarning: You are using `torch.load` with `weights_only=False` (the current default value), which uses the default pickle module implicitly. It is possible to construct malicious pickle data which will execute arbitrary code during unpickling (See https://github.com/pytorch/pytorch/blob/main/SECURITY.md#untrusted-models for more details). In a future release, the default value for `weights_only` will be flipped to `True`. This limits the functions that could be executed during unpickling. Arbitrary objects will no longer be allowed to be loaded via this mode unless they are explicitly allowlisted by the user via `torch.serialization.add_safe_globals`. We recommend you start setting `weights_only=True` for any use case where you don't have full control of the loaded file. Please open an issue on GitHub for any issues related to this experimental feature.\n",
      "  labels_train_index = torch.load(\"../data_preprocessed/labels_train.pt\")\n",
      "C:\\Users\\Lenovo\\AppData\\Local\\Temp\\ipykernel_17240\\226906326.py:8: FutureWarning: You are using `torch.load` with `weights_only=False` (the current default value), which uses the default pickle module implicitly. It is possible to construct malicious pickle data which will execute arbitrary code during unpickling (See https://github.com/pytorch/pytorch/blob/main/SECURITY.md#untrusted-models for more details). In a future release, the default value for `weights_only` will be flipped to `True`. This limits the functions that could be executed during unpickling. Arbitrary objects will no longer be allowed to be loaded via this mode unless they are explicitly allowlisted by the user via `torch.serialization.add_safe_globals`. We recommend you start setting `weights_only=True` for any use case where you don't have full control of the loaded file. Please open an issue on GitHub for any issues related to this experimental feature.\n",
      "  labels_val_index = torch.load(\"../data_preprocessed/labels_val.pt\")\n"
     ]
    }
   ],
   "source": [
    "# TODO: 7. Load the pre-processed sets from .pt files. The data can be used directly in future without pre-processing once more by loading from the folder.\n",
    "\n",
    "tensor_train = torch.load(\"../data_preprocessed/tensor_train.pt\")\n",
    "tensor_val = torch.load(\"../data_preprocessed/tensor_val.pt\")\n",
    "tensor_test = torch.load(\"../data_preprocessed/tensor_test.pt\")\n",
    "\n",
    "labels_train_index = torch.load(\"../data_preprocessed/labels_train.pt\")\n",
    "labels_val_index = torch.load(\"../data_preprocessed/labels_val.pt\")"
   ]
  },
  {
   "cell_type": "markdown",
   "id": "f5cb7cfa317410ff",
   "metadata": {
    "collapsed": false
   },
   "source": [
    "# Step 2 Train the teacher model (ResNet34)\n",
    "1. Set hyperparameters for the training process.\n",
    "2. Create a pretrained ResNet34.\n",
    "3. Define the optimizer, loss function, etc.\n",
    "4. Train ResNet34 and save the best-performing parameters to 'resnet34_checkpoint.pkl'.\n",
    "5. Plot the loss and accuracy curves."
   ]
  },
  {
   "cell_type": "code",
   "execution_count": 12,
   "id": "745979a1b12465eb",
   "metadata": {
    "ExecuteTime": {
     "end_time": "2025-05-10T01:43:51.705549Z",
     "start_time": "2025-05-10T01:43:51.663106Z"
    },
    "collapsed": false
   },
   "outputs": [
    {
     "name": "stdout",
     "output_type": "stream",
     "text": [
      "10\n",
      "torch.Size([7800, 3, 224, 224])\n",
      "torch.Size([2600, 3, 224, 224])\n",
      "torch.Size([2600, 3, 224, 224])\n",
      "(7800,)\n",
      "(2600,)\n"
     ]
    }
   ],
   "source": [
    "# Verify data shapes\n",
    "\n",
    "num_classes = max(labels_train_index) + 1\n",
    "print(num_classes)\n",
    "print(tensor_train.shape)\n",
    "print(tensor_val.shape)\n",
    "print(tensor_test.shape)\n",
    "print(labels_train_index.shape)\n",
    "print(labels_val_index.shape)"
   ]
  },
  {
   "cell_type": "markdown",
   "id": "97861947",
   "metadata": {},
   "source": [
    "### - TODO: 1. Set hyperparameters for the training process."
   ]
  },
  {
   "cell_type": "code",
   "execution_count": 13,
   "id": "507aa43e1a3701b5",
   "metadata": {
    "ExecuteTime": {
     "end_time": "2025-05-10T01:43:52.604546Z",
     "start_time": "2025-05-10T01:43:52.600245Z"
    },
    "collapsed": false
   },
   "outputs": [],
   "source": [
    "# TODO: 1. Set hyperparameters for the training process.\n",
    "\n",
    "MAX_EPOCH = 10\n",
    "INIT_LR = 0.0001\n",
    "BATCH_SIZE = 64\n",
    "\n",
    "# Specify the training device (automatically detects GPU if available)\n",
    "# Usage example: \n",
    "#   tensor = tensor.to(device)  # Moves tensor to selected device\n",
    "device = torch.device(\"cuda\" if torch.cuda.is_available() else \"cpu\")"
   ]
  },
  {
   "cell_type": "markdown",
   "id": "73849952",
   "metadata": {},
   "source": [
    "### - TODO: 2. Create a pretrained ResNet34."
   ]
  },
  {
   "cell_type": "code",
   "execution_count": 14,
   "id": "c8b9bf9ed5ae5cf9",
   "metadata": {
    "ExecuteTime": {
     "end_time": "2025-05-10T01:43:55.541802Z",
     "start_time": "2025-05-10T01:43:55.291383Z"
    },
    "collapsed": false
   },
   "outputs": [],
   "source": [
    "# TODO: 2. Create a pretrained ResNet34.\n",
    "\n",
    "# 2.1 Use torchvision to create a pretrained ResNet34.\n",
    "resnet34 = torchvision.models.resnet34(weights=torchvision.models.ResNet34_Weights.DEFAULT)\n",
    "\n",
    "# 2.2 Modify the output layer so that the model aligns with this project.\n",
    "resnet34.fc = nn.Sequential(\n",
    "    nn.Dropout(0.5),\n",
    "    nn.Linear(resnet34.fc.in_features, num_classes)\n",
    ")\n",
    "# Freeze the parameters of the pretrained model except for the last fully connected layer.\n",
    "for param in resnet34.parameters():\n",
    "    param.requires_grad = False\n",
    "for param in resnet34.fc.parameters():\n",
    "    param.requires_grad = True\n",
    "\n",
    "# 2.2 Move the model to selected device.\n",
    "resnet34 = resnet34.to(device)"
   ]
  },
  {
   "cell_type": "markdown",
   "id": "22f0fc33",
   "metadata": {},
   "source": [
    "### - TODO: 3. Define the optimizer, loss function, etc."
   ]
  },
  {
   "cell_type": "code",
   "execution_count": 15,
   "id": "70de5ac59beb12d",
   "metadata": {
    "ExecuteTime": {
     "end_time": "2025-05-10T01:43:56.555839Z",
     "start_time": "2025-05-10T01:43:56.542721Z"
    },
    "collapsed": false
   },
   "outputs": [],
   "source": [
    "# TODO: 3. Define the optimizer, loss function, etc.\n",
    "\n",
    "optimizer = torch.optim.Adam(\n",
    "    resnet34.fc.parameters(),\n",
    "    lr= INIT_LR,\n",
    "    weight_decay=1e-4\n",
    ")\n",
    "criterion = nn.CrossEntropyLoss(label_smoothing=0.1)"
   ]
  },
  {
   "cell_type": "markdown",
   "id": "3a24e64b",
   "metadata": {},
   "source": [
    "### - TODO: 4. Train ResNet34 and save the best-performing parameters to 'resnet34_checkpoint.pkl'."
   ]
  },
  {
   "cell_type": "code",
   "execution_count": 16,
   "id": "65a797debcc531db",
   "metadata": {
    "collapsed": false
   },
   "outputs": [
    {
     "name": "stdout",
     "output_type": "stream",
     "text": [
      "--------------------\n",
      "Epoch 1/10\n",
      "----------\n",
      "Train Loss: 2.3277, Acc: 0.2168\n",
      "Val   Loss: 1.6848, Acc: 0.6435\n",
      "--- Best model ---\n",
      "✅ Best model saved at Epoch 1 | Val Acc: 0.6435 | Val Loss: 1.6848\n",
      "--------------------\n",
      "Epoch 2/10\n",
      "----------\n",
      "Train Loss: 1.5993, Acc: 0.5637\n",
      "Val   Loss: 1.1563, Acc: 0.9038\n",
      "--- Best model ---\n",
      "✅ Best model saved at Epoch 2 | Val Acc: 0.9038 | Val Loss: 1.1563\n",
      "--------------------\n",
      "Epoch 3/10\n",
      "----------\n",
      "Train Loss: 1.2085, Acc: 0.7704\n",
      "Val   Loss: 0.9094, Acc: 0.9446\n",
      "--- Best model ---\n",
      "✅ Best model saved at Epoch 3 | Val Acc: 0.9446 | Val Loss: 0.9094\n",
      "--------------------\n",
      "Epoch 4/10\n",
      "----------\n",
      "Train Loss: 1.0135, Acc: 0.8542\n",
      "Val   Loss: 0.7869, Acc: 0.9546\n",
      "--- Best model ---\n",
      "✅ Best model saved at Epoch 4 | Val Acc: 0.9546 | Val Loss: 0.7869\n",
      "--------------------\n",
      "Epoch 5/10\n",
      "----------\n",
      "Train Loss: 0.9049, Acc: 0.8859\n",
      "Val   Loss: 0.7199, Acc: 0.9638\n",
      "--- Best model ---\n",
      "✅ Best model saved at Epoch 5 | Val Acc: 0.9638 | Val Loss: 0.7199\n",
      "--------------------\n",
      "Epoch 6/10\n",
      "----------\n",
      "Train Loss: 0.8432, Acc: 0.9053\n",
      "Val   Loss: 0.6863, Acc: 0.9669\n",
      "--- Best model ---\n",
      "✅ Best model saved at Epoch 6 | Val Acc: 0.9669 | Val Loss: 0.6863\n",
      "--------------------\n",
      "Epoch 7/10\n",
      "----------\n",
      "Train Loss: 0.8089, Acc: 0.9154\n",
      "Val   Loss: 0.6702, Acc: 0.9681\n",
      "--- Best model ---\n",
      "✅ Best model saved at Epoch 7 | Val Acc: 0.9681 | Val Loss: 0.6702\n",
      "--------------------\n",
      "Epoch 8/10\n",
      "----------\n",
      "Train Loss: 0.7738, Acc: 0.9297\n",
      "Val   Loss: 0.6551, Acc: 0.9700\n",
      "--- Best model ---\n",
      "✅ Best model saved at Epoch 8 | Val Acc: 0.9700 | Val Loss: 0.6551\n",
      "--------------------\n",
      "Epoch 9/10\n",
      "----------\n",
      "Train Loss: 0.7690, Acc: 0.9286\n",
      "Val   Loss: 0.6477, Acc: 0.9742\n",
      "--- Best model ---\n",
      "✅ Best model saved at Epoch 9 | Val Acc: 0.9742 | Val Loss: 0.6477\n",
      "--------------------\n",
      "Epoch 10/10\n",
      "----------\n",
      "Train Loss: 0.7584, Acc: 0.9313\n",
      "Val   Loss: 0.6429, Acc: 0.9742\n",
      "--- Best model ---\n",
      "✅ Best model saved at Epoch 10 | Val Acc: 0.9742 | Val Loss: 0.6429\n"
     ]
    }
   ],
   "source": [
    "# TODO: 4. Train ResNet34 and save the best-performing parameters to 'resnet34_checkpoint.pkl'.\n",
    "# Hint: May not need too many epochs as this is a pretrained model.\n",
    "\n",
    "train_accs_resnet34, train_losses_resnet34, val_accs_resnet34, val_losses_resnet34 = [], [], [], []\n",
    "\n",
    "# Initialize the best validation accuracy and a copy of the model weights\n",
    "best_val_acc = 0.0\n",
    "best_model_wts = copy.deepcopy(resnet34.state_dict())\n",
    "\n",
    "# Ensure label indices are torch tensors of type long (required for loss function)\n",
    "labels_train_index = torch.tensor(labels_train_index, dtype=torch.long)\n",
    "labels_val_index = torch.tensor(labels_val_index, dtype=torch.long)\n",
    "\n",
    "# Create a TensorDataset and DataLoader for the training set\n",
    "train_dataset = TensorDataset(tensor_train, labels_train_index)\n",
    "train_loader = DataLoader(\n",
    "    train_dataset,\n",
    "    batch_size=BATCH_SIZE,\n",
    "    shuffle=True,      # Shuffle data at every epoch\n",
    "    num_workers=4,     # Number of subprocesses for data loading\n",
    "    pin_memory=True    # Pin memory for faster GPU transfer\n",
    " )\n",
    "\n",
    "# Training loop for MAX_EPOCH epochs\n",
    "for epoch in range(MAX_EPOCH):\n",
    "    print(\"-\" * 20)\n",
    "    print(f\"Epoch {epoch+1}/{MAX_EPOCH}\")\n",
    "    print(\"-\" * 10)\n",
    "\n",
    "    # ---------- Train ----------\n",
    "    resnet34.train()  # Set model to training mode\n",
    "    train_loss, train_corrects = 0.0, 0\n",
    "\n",
    "    # Iterate over training batches\n",
    "    for inputs, labels in train_loader:\n",
    "        inputs, labels = inputs.to(device), labels.to(device)\n",
    "        optimizer.zero_grad()\n",
    "        outputs = resnet34(inputs)\n",
    "        loss = criterion(outputs, labels)\n",
    "        loss.backward()\n",
    "        optimizer.step()\n",
    "\n",
    "        train_loss += loss.item() * inputs.size(0)  # Accumulate loss\n",
    "        _, preds = torch.max(outputs, 1)            # Get predicted class indices\n",
    "        train_corrects += torch.sum(preds == labels).item()  # Count correct predictions\n",
    "\n",
    "    # Compute average training loss and accuracy for this epoch\n",
    "    epoch_train_loss = train_loss / len(tensor_train)\n",
    "    epoch_train_acc = train_corrects / len(tensor_train)\n",
    "\n",
    "    train_losses_resnet34.append(epoch_train_loss)\n",
    "    train_accs_resnet34.append(epoch_train_acc)\n",
    "\n",
    "    # ---------- Validation ----------\n",
    "    resnet34.eval()  # Set model to evaluation mode (disables dropout, etc.)\n",
    "    val_loss, val_corrects = 0.0, 0\n",
    "\n",
    "    all_preds = []\n",
    "    all_labels = []\n",
    "\n",
    "    # Evaluate on the validation set without gradient computation\n",
    "    with torch.no_grad():\n",
    "        for i in range(0, len(tensor_val), BATCH_SIZE):\n",
    "            inputs = tensor_val[i:i+BATCH_SIZE].to(device)\n",
    "            labels = labels_val_index[i:i+BATCH_SIZE].to(device)\n",
    "\n",
    "            outputs = resnet34(inputs)\n",
    "            loss = criterion(outputs, labels)\n",
    "\n",
    "            val_loss += loss.item() * inputs.size(0)\n",
    "            _, preds = torch.max(outputs, 1)\n",
    "            val_corrects += torch.sum(preds == labels)\n",
    "            \n",
    "            all_preds.extend(preds.cpu().tolist())\n",
    "            all_labels.extend(labels.cpu().tolist())\n",
    "\n",
    "    # Compute average validation loss and accuracy for this epoch\n",
    "    epoch_val_loss = val_loss / len(tensor_val)\n",
    "    epoch_val_acc = val_corrects.double() / len(tensor_val)\n",
    "\n",
    "    val_losses_resnet34.append(epoch_val_loss)\n",
    "    val_accs_resnet34.append(epoch_val_acc.item())\n",
    "\n",
    "    # Print training and validation metrics for this epoch\n",
    "    print(f\"Train Loss: {epoch_train_loss:.4f}, Acc: {epoch_train_acc:.4f}\")\n",
    "    print(f\"Val   Loss: {epoch_val_loss:.4f}, Acc: {epoch_val_acc:.4f}\")\n",
    "    \n",
    "\n",
    "\n",
    "    # ---------- Save Best ----------\n",
    "    is_better = False\n",
    "    # Save model if validation accuracy improves, or if accuracy is tied but loss improves\n",
    "    if epoch_val_acc > best_val_acc:\n",
    "        is_better = True\n",
    "    elif epoch_val_acc == best_val_acc and epoch_val_loss < best_val_loss:\n",
    "        is_better = True\n",
    "\n",
    "    if is_better:\n",
    "        best_val_acc = epoch_val_acc\n",
    "        best_val_loss = epoch_val_loss  \n",
    "        torch.save(resnet34.state_dict(), \"../models/resnet34_checkpoint.pkl\")  # Save model weights\n",
    "        print(\"--- Best model ---\")\n",
    "        print(f\"✅ Best model saved at Epoch {epoch+1} | Val Acc: {epoch_val_acc:.4f} | Val Loss: {epoch_val_loss:.4f}\")\n",
    "\n",
    "\n"
   ]
  },
  {
   "cell_type": "markdown",
   "id": "9f412f71",
   "metadata": {},
   "source": [
    "### - TODO: 5. Plot the loss and accuracy curves."
   ]
  },
  {
   "cell_type": "code",
   "execution_count": 17,
   "id": "bb5a3089891cf4a3",
   "metadata": {
    "collapsed": false
   },
   "outputs": [
    {
     "data": {
      "image/png": "[encoded data removed]",
      "text/plain": [
       "<Figure size 1200x500 with 2 Axes>"
      ]
     },
     "metadata": {},
     "output_type": "display_data"
    }
   ],
   "source": [
    "# TODO: 5. Plot the loss and accuracy curves.\n",
    "plt.figure(figsize=(12, 5))\n",
    "\n",
    "plt.subplot(1, 2, 1)\n",
    "plt.plot(train_losses_resnet34, label='Train Loss')\n",
    "plt.plot(val_losses_resnet34, label='Val Loss')\n",
    "plt.xlabel('Epoch')\n",
    "plt.ylabel('Loss')\n",
    "plt.title('ResNet34 Loss Curve')\n",
    "plt.legend()\n",
    "\n",
    "plt.subplot(1, 2, 2)\n",
    "plt.plot(train_accs_resnet34, label='Train Acc')\n",
    "plt.plot(val_accs_resnet34, label='Val Acc')\n",
    "plt.xlabel('Epoch')\n",
    "plt.ylabel('Accuracy')\n",
    "plt.title('ResNet34 Accuracy Curve')\n",
    "plt.legend()\n",
    "\n",
    "plt.tight_layout()\n",
    "plt.show()"
   ]
  },
  {
   "cell_type": "markdown",
   "id": "897fa4102b57deab",
   "metadata": {
    "collapsed": false
   },
   "source": [
    "# Step 3 Train the student model (ResNet18)\n",
    "1. Set hyperparameters for the distillation process.\n",
    "2. Create a NON-PRETRAINED ResNet18 and move the model to selected device.\n",
    "3. Load the saved ResNet34 and move the model to selected device.\n",
    "4. Define the optimizer, loss function, etc.\n",
    "5. Train ResNet18 and save the best-performing parameters to 'resnet18_checkpoint.pkl'.\n",
    "6. Plot the loss and accuracy curves."
   ]
  },
  {
   "cell_type": "code",
   "execution_count": 18,
   "id": "68482456ab9410f8",
   "metadata": {
    "ExecuteTime": {
     "end_time": "2025-05-10T01:57:38.370616Z",
     "start_time": "2025-05-10T01:57:38.341026Z"
    },
    "collapsed": false
   },
   "outputs": [
    {
     "name": "stdout",
     "output_type": "stream",
     "text": [
      "tensor(10)\n",
      "torch.Size([7800, 3, 224, 224])\n",
      "torch.Size([2600, 3, 224, 224])\n",
      "torch.Size([2600, 3, 224, 224])\n",
      "torch.Size([7800])\n",
      "torch.Size([2600])\n"
     ]
    }
   ],
   "source": [
    "# Verify data shapes\n",
    "\n",
    "num_classes = max(labels_train_index) + 1\n",
    "print(num_classes)\n",
    "print(tensor_train.shape)\n",
    "print(tensor_val.shape)\n",
    "print(tensor_test.shape)\n",
    "print(labels_train_index.shape)\n",
    "print(labels_val_index.shape)"
   ]
  },
  {
   "cell_type": "markdown",
   "id": "510af937",
   "metadata": {},
   "source": [
    "### - TODO: 1. Set hyperparameters for the distillation process."
   ]
  },
  {
   "cell_type": "code",
   "execution_count": 19,
   "id": "36a405975e022459",
   "metadata": {
    "ExecuteTime": {
     "end_time": "2025-05-10T01:57:39.329470Z",
     "start_time": "2025-05-10T01:57:39.294551Z"
    },
    "collapsed": false
   },
   "outputs": [],
   "source": [
    "# TODO: 1. Set hyperparameters for the distillation process.\n",
    "\n",
    "MAX_EPOCH = 40 \n",
    "INIT_LR = 0.001\n",
    "BATCH_SIZE = 64\n",
    "device = torch.device(\"cuda\" if torch.cuda.is_available() else \"cpu\")\n",
    "\n",
    "TEMPERATURE = 5\n",
    "LOSS_RATIO = 0.5  # Ratio of distillation loss to cross-entropy loss"
   ]
  },
  {
   "cell_type": "markdown",
   "id": "3960754d",
   "metadata": {},
   "source": [
    "### - TODO: 2. Create a NON-PRETRAINED ResNet18 and move the model to selected device.\n"
   ]
  },
  {
   "cell_type": "code",
   "execution_count": 20,
   "id": "e7d2325836c2cf7d",
   "metadata": {
    "ExecuteTime": {
     "end_time": "2025-05-10T01:57:43.030265Z",
     "start_time": "2025-05-10T01:57:42.861042Z"
    },
    "collapsed": false
   },
   "outputs": [],
   "source": [
    "# TODO: 2. Create a NON-PRETRAINED ResNet18 and move the model to selected device.\n",
    "\n",
    "resnet18 = torchvision.models.resnet18(weights=None)\n",
    "\n",
    "resnet18.fc = nn.Sequential(\n",
    "    nn.Dropout(0.5),\n",
    "    nn.Linear(resnet18.fc.in_features, num_classes)\n",
    ")\n",
    "\n",
    "resnet18 = resnet18.to(device)"
   ]
  },
  {
   "cell_type": "markdown",
   "id": "0797d948",
   "metadata": {},
   "source": [
    "### - TODO: 3. Load the saved ResNet34 and move the model to selected device."
   ]
  },
  {
   "cell_type": "code",
   "execution_count": 21,
   "id": "b8092f5d5acce972",
   "metadata": {
    "collapsed": false
   },
   "outputs": [
    {
     "name": "stderr",
     "output_type": "stream",
     "text": [
      "C:\\Users\\Lenovo\\AppData\\Local\\Temp\\ipykernel_17240\\4188290274.py:9: FutureWarning: You are using `torch.load` with `weights_only=False` (the current default value), which uses the default pickle module implicitly. It is possible to construct malicious pickle data which will execute arbitrary code during unpickling (See https://github.com/pytorch/pytorch/blob/main/SECURITY.md#untrusted-models for more details). In a future release, the default value for `weights_only` will be flipped to `True`. This limits the functions that could be executed during unpickling. Arbitrary objects will no longer be allowed to be loaded via this mode unless they are explicitly allowlisted by the user via `torch.serialization.add_safe_globals`. We recommend you start setting `weights_only=True` for any use case where you don't have full control of the loaded file. Please open an issue on GitHub for any issues related to this experimental feature.\n",
      "  resnet34.load_state_dict(torch.load(\"../models/resnet34_checkpoint.pkl\", map_location=device))\n"
     ]
    },
    {
     "data": {
      "text/plain": [
       "ResNet(\n",
       "  (conv1): Conv2d(3, 64, kernel_size=(7, 7), stride=(2, 2), padding=(3, 3), bias=False)\n",
       "  (bn1): BatchNorm2d(64, eps=1e-05, momentum=0.1, affine=True, track_running_stats=True)\n",
       "  (relu): ReLU(inplace=True)\n",
       "  (maxpool): MaxPool2d(kernel_size=3, stride=2, padding=1, dilation=1, ceil_mode=False)\n",
       "  (layer1): Sequential(\n",
       "    (0): BasicBlock(\n",
       "      (conv1): Conv2d(64, 64, kernel_size=(3, 3), stride=(1, 1), padding=(1, 1), bias=False)\n",
       "      (bn1): BatchNorm2d(64, eps=1e-05, momentum=0.1, affine=True, track_running_stats=True)\n",
       "      (relu): ReLU(inplace=True)\n",
       "      (conv2): Conv2d(64, 64, kernel_size=(3, 3), stride=(1, 1), padding=(1, 1), bias=False)\n",
       "      (bn2): BatchNorm2d(64, eps=1e-05, momentum=0.1, affine=True, track_running_stats=True)\n",
       "    )\n",
       "    (1): BasicBlock(\n",
       "      (conv1): Conv2d(64, 64, kernel_size=(3, 3), stride=(1, 1), padding=(1, 1), bias=False)\n",
       "      (bn1): BatchNorm2d(64, eps=1e-05, momentum=0.1, affine=True, track_running_stats=True)\n",
       "      (relu): ReLU(inplace=True)\n",
       "      (conv2): Conv2d(64, 64, kernel_size=(3, 3), stride=(1, 1), padding=(1, 1), bias=False)\n",
       "      (bn2): BatchNorm2d(64, eps=1e-05, momentum=0.1, affine=True, track_running_stats=True)\n",
       "    )\n",
       "    (2): BasicBlock(\n",
       "      (conv1): Conv2d(64, 64, kernel_size=(3, 3), stride=(1, 1), padding=(1, 1), bias=False)\n",
       "      (bn1): BatchNorm2d(64, eps=1e-05, momentum=0.1, affine=True, track_running_stats=True)\n",
       "      (relu): ReLU(inplace=True)\n",
       "      (conv2): Conv2d(64, 64, kernel_size=(3, 3), stride=(1, 1), padding=(1, 1), bias=False)\n",
       "      (bn2): BatchNorm2d(64, eps=1e-05, momentum=0.1, affine=True, track_running_stats=True)\n",
       "    )\n",
       "  )\n",
       "  (layer2): Sequential(\n",
       "    (0): BasicBlock(\n",
       "      (conv1): Conv2d(64, 128, kernel_size=(3, 3), stride=(2, 2), padding=(1, 1), bias=False)\n",
       "      (bn1): BatchNorm2d(128, eps=1e-05, momentum=0.1, affine=True, track_running_stats=True)\n",
       "      (relu): ReLU(inplace=True)\n",
       "      (conv2): Conv2d(128, 128, kernel_size=(3, 3), stride=(1, 1), padding=(1, 1), bias=False)\n",
       "      (bn2): BatchNorm2d(128, eps=1e-05, momentum=0.1, affine=True, track_running_stats=True)\n",
       "      (downsample): Sequential(\n",
       "        (0): Conv2d(64, 128, kernel_size=(1, 1), stride=(2, 2), bias=False)\n",
       "        (1): BatchNorm2d(128, eps=1e-05, momentum=0.1, affine=True, track_running_stats=True)\n",
       "      )\n",
       "    )\n",
       "    (1): BasicBlock(\n",
       "      (conv1): Conv2d(128, 128, kernel_size=(3, 3), stride=(1, 1), padding=(1, 1), bias=False)\n",
       "      (bn1): BatchNorm2d(128, eps=1e-05, momentum=0.1, affine=True, track_running_stats=True)\n",
       "      (relu): ReLU(inplace=True)\n",
       "      (conv2): Conv2d(128, 128, kernel_size=(3, 3), stride=(1, 1), padding=(1, 1), bias=False)\n",
       "      (bn2): BatchNorm2d(128, eps=1e-05, momentum=0.1, affine=True, track_running_stats=True)\n",
       "    )\n",
       "    (2): BasicBlock(\n",
       "      (conv1): Conv2d(128, 128, kernel_size=(3, 3), stride=(1, 1), padding=(1, 1), bias=False)\n",
       "      (bn1): BatchNorm2d(128, eps=1e-05, momentum=0.1, affine=True, track_running_stats=True)\n",
       "      (relu): ReLU(inplace=True)\n",
       "      (conv2): Conv2d(128, 128, kernel_size=(3, 3), stride=(1, 1), padding=(1, 1), bias=False)\n",
       "      (bn2): BatchNorm2d(128, eps=1e-05, momentum=0.1, affine=True, track_running_stats=True)\n",
       "    )\n",
       "    (3): BasicBlock(\n",
       "      (conv1): Conv2d(128, 128, kernel_size=(3, 3), stride=(1, 1), padding=(1, 1), bias=False)\n",
       "      (bn1): BatchNorm2d(128, eps=1e-05, momentum=0.1, affine=True, track_running_stats=True)\n",
       "      (relu): ReLU(inplace=True)\n",
       "      (conv2): Conv2d(128, 128, kernel_size=(3, 3), stride=(1, 1), padding=(1, 1), bias=False)\n",
       "      (bn2): BatchNorm2d(128, eps=1e-05, momentum=0.1, affine=True, track_running_stats=True)\n",
       "    )\n",
       "  )\n",
       "  (layer3): Sequential(\n",
       "    (0): BasicBlock(\n",
       "      (conv1): Conv2d(128, 256, kernel_size=(3, 3), stride=(2, 2), padding=(1, 1), bias=False)\n",
       "      (bn1): BatchNorm2d(256, eps=1e-05, momentum=0.1, affine=True, track_running_stats=True)\n",
       "      (relu): ReLU(inplace=True)\n",
       "      (conv2): Conv2d(256, 256, kernel_size=(3, 3), stride=(1, 1), padding=(1, 1), bias=False)\n",
       "      (bn2): BatchNorm2d(256, eps=1e-05, momentum=0.1, affine=True, track_running_stats=True)\n",
       "      (downsample): Sequential(\n",
       "        (0): Conv2d(128, 256, kernel_size=(1, 1), stride=(2, 2), bias=False)\n",
       "        (1): BatchNorm2d(256, eps=1e-05, momentum=0.1, affine=True, track_running_stats=True)\n",
       "      )\n",
       "    )\n",
       "    (1): BasicBlock(\n",
       "      (conv1): Conv2d(256, 256, kernel_size=(3, 3), stride=(1, 1), padding=(1, 1), bias=False)\n",
       "      (bn1): BatchNorm2d(256, eps=1e-05, momentum=0.1, affine=True, track_running_stats=True)\n",
       "      (relu): ReLU(inplace=True)\n",
       "      (conv2): Conv2d(256, 256, kernel_size=(3, 3), stride=(1, 1), padding=(1, 1), bias=False)\n",
       "      (bn2): BatchNorm2d(256, eps=1e-05, momentum=0.1, affine=True, track_running_stats=True)\n",
       "    )\n",
       "    (2): BasicBlock(\n",
       "      (conv1): Conv2d(256, 256, kernel_size=(3, 3), stride=(1, 1), padding=(1, 1), bias=False)\n",
       "      (bn1): BatchNorm2d(256, eps=1e-05, momentum=0.1, affine=True, track_running_stats=True)\n",
       "      (relu): ReLU(inplace=True)\n",
       "      (conv2): Conv2d(256, 256, kernel_size=(3, 3), stride=(1, 1), padding=(1, 1), bias=False)\n",
       "      (bn2): BatchNorm2d(256, eps=1e-05, momentum=0.1, affine=True, track_running_stats=True)\n",
       "    )\n",
       "    (3): BasicBlock(\n",
       "      (conv1): Conv2d(256, 256, kernel_size=(3, 3), stride=(1, 1), padding=(1, 1), bias=False)\n",
       "      (bn1): BatchNorm2d(256, eps=1e-05, momentum=0.1, affine=True, track_running_stats=True)\n",
       "      (relu): ReLU(inplace=True)\n",
       "      (conv2): Conv2d(256, 256, kernel_size=(3, 3), stride=(1, 1), padding=(1, 1), bias=False)\n",
       "      (bn2): BatchNorm2d(256, eps=1e-05, momentum=0.1, affine=True, track_running_stats=True)\n",
       "    )\n",
       "    (4): BasicBlock(\n",
       "      (conv1): Conv2d(256, 256, kernel_size=(3, 3), stride=(1, 1), padding=(1, 1), bias=False)\n",
       "      (bn1): BatchNorm2d(256, eps=1e-05, momentum=0.1, affine=True, track_running_stats=True)\n",
       "      (relu): ReLU(inplace=True)\n",
       "      (conv2): Conv2d(256, 256, kernel_size=(3, 3), stride=(1, 1), padding=(1, 1), bias=False)\n",
       "      (bn2): BatchNorm2d(256, eps=1e-05, momentum=0.1, affine=True, track_running_stats=True)\n",
       "    )\n",
       "    (5): BasicBlock(\n",
       "      (conv1): Conv2d(256, 256, kernel_size=(3, 3), stride=(1, 1), padding=(1, 1), bias=False)\n",
       "      (bn1): BatchNorm2d(256, eps=1e-05, momentum=0.1, affine=True, track_running_stats=True)\n",
       "      (relu): ReLU(inplace=True)\n",
       "      (conv2): Conv2d(256, 256, kernel_size=(3, 3), stride=(1, 1), padding=(1, 1), bias=False)\n",
       "      (bn2): BatchNorm2d(256, eps=1e-05, momentum=0.1, affine=True, track_running_stats=True)\n",
       "    )\n",
       "  )\n",
       "  (layer4): Sequential(\n",
       "    (0): BasicBlock(\n",
       "      (conv1): Conv2d(256, 512, kernel_size=(3, 3), stride=(2, 2), padding=(1, 1), bias=False)\n",
       "      (bn1): BatchNorm2d(512, eps=1e-05, momentum=0.1, affine=True, track_running_stats=True)\n",
       "      (relu): ReLU(inplace=True)\n",
       "      (conv2): Conv2d(512, 512, kernel_size=(3, 3), stride=(1, 1), padding=(1, 1), bias=False)\n",
       "      (bn2): BatchNorm2d(512, eps=1e-05, momentum=0.1, affine=True, track_running_stats=True)\n",
       "      (downsample): Sequential(\n",
       "        (0): Conv2d(256, 512, kernel_size=(1, 1), stride=(2, 2), bias=False)\n",
       "        (1): BatchNorm2d(512, eps=1e-05, momentum=0.1, affine=True, track_running_stats=True)\n",
       "      )\n",
       "    )\n",
       "    (1): BasicBlock(\n",
       "      (conv1): Conv2d(512, 512, kernel_size=(3, 3), stride=(1, 1), padding=(1, 1), bias=False)\n",
       "      (bn1): BatchNorm2d(512, eps=1e-05, momentum=0.1, affine=True, track_running_stats=True)\n",
       "      (relu): ReLU(inplace=True)\n",
       "      (conv2): Conv2d(512, 512, kernel_size=(3, 3), stride=(1, 1), padding=(1, 1), bias=False)\n",
       "      (bn2): BatchNorm2d(512, eps=1e-05, momentum=0.1, affine=True, track_running_stats=True)\n",
       "    )\n",
       "    (2): BasicBlock(\n",
       "      (conv1): Conv2d(512, 512, kernel_size=(3, 3), stride=(1, 1), padding=(1, 1), bias=False)\n",
       "      (bn1): BatchNorm2d(512, eps=1e-05, momentum=0.1, affine=True, track_running_stats=True)\n",
       "      (relu): ReLU(inplace=True)\n",
       "      (conv2): Conv2d(512, 512, kernel_size=(3, 3), stride=(1, 1), padding=(1, 1), bias=False)\n",
       "      (bn2): BatchNorm2d(512, eps=1e-05, momentum=0.1, affine=True, track_running_stats=True)\n",
       "    )\n",
       "  )\n",
       "  (avgpool): AdaptiveAvgPool2d(output_size=(1, 1))\n",
       "  (fc): Sequential(\n",
       "    (0): Dropout(p=0.5, inplace=False)\n",
       "    (1): Linear(in_features=512, out_features=10, bias=True)\n",
       "  )\n",
       ")"
      ]
     },
     "execution_count": 21,
     "metadata": {},
     "output_type": "execute_result"
    }
   ],
   "source": [
    "# TODO: 3. Load the saved ResNet34 and move the model to selected device.\n",
    "# Hint: Enable the evaluation mode to prevent updating the parameters.\n",
    "\n",
    "resnet34 = torchvision.models.resnet34(weights=None)\n",
    "resnet34.fc = nn.Sequential(\n",
    "    nn.Dropout(0.5),\n",
    "    nn.Linear(resnet34.fc.in_features, num_classes)\n",
    ")\n",
    "resnet34.load_state_dict(torch.load(\"../models/resnet34_checkpoint.pkl\", map_location=device))\n",
    "resnet34 = resnet34.to(device)\n",
    "resnet34.eval()  "
   ]
  },
  {
   "cell_type": "markdown",
   "id": "a381a0fa",
   "metadata": {},
   "source": [
    "### - TODO: 4. Define the optimizer, loss function, etc."
   ]
  },
  {
   "cell_type": "code",
   "execution_count": 22,
   "id": "f312a04da1e5ddf6",
   "metadata": {
    "ExecuteTime": {
     "end_time": "2025-05-10T01:57:49.170629Z",
     "start_time": "2025-05-10T01:57:49.152278Z"
    },
    "collapsed": false
   },
   "outputs": [],
   "source": [
    "# TODO: 4. Define the optimizer, loss function, etc.\n",
    "\n",
    "optimizer = torch.optim.Adam(\n",
    "    resnet18.parameters(),\n",
    "    lr=INIT_LR,\n",
    "    weight_decay=5e-5\n",
    ")\n",
    "scheduler = torch.optim.lr_scheduler.StepLR(\n",
    "    optimizer,\n",
    "    step_size=10,\n",
    "    gamma=0.1\n",
    ")"
   ]
  },
  {
   "cell_type": "markdown",
   "id": "d36b48b2",
   "metadata": {},
   "source": [
    "### - TODO: 5. Train ResNet18 and save the best-performing parameters to 'resnet18_checkpoint.pkl'."
   ]
  },
  {
   "cell_type": "code",
   "execution_count": 23,
   "id": "3c17f3f9eb662cef",
   "metadata": {
    "collapsed": false
   },
   "outputs": [
    {
     "name": "stderr",
     "output_type": "stream",
     "text": [
      "C:\\Users\\Lenovo\\AppData\\Local\\Temp\\ipykernel_17240\\964994692.py:10: UserWarning: To copy construct from a tensor, it is recommended to use sourceTensor.clone().detach() or sourceTensor.clone().detach().requires_grad_(True), rather than torch.tensor(sourceTensor).\n",
      "  labels_train_index = torch.tensor(labels_train_index, dtype=torch.long)\n",
      "C:\\Users\\Lenovo\\AppData\\Local\\Temp\\ipykernel_17240\\964994692.py:11: UserWarning: To copy construct from a tensor, it is recommended to use sourceTensor.clone().detach() or sourceTensor.clone().detach().requires_grad_(True), rather than torch.tensor(sourceTensor).\n",
      "  labels_val_index = torch.tensor(labels_val_index, dtype=torch.long)\n"
     ]
    },
    {
     "name": "stdout",
     "output_type": "stream",
     "text": [
      "--------------------\n",
      "Epoch 1/40\n",
      "----------\n",
      "Train Loss: 1.3942, Acc: 0.5044\n",
      "Val   Loss: 1.2217, Acc: 0.6154\n",
      "--- Best model ---\n",
      "✅ Best model saved at Epoch 1 | Val Acc: 0.6154 | Val Loss: 1.2217\n",
      "--------------------\n",
      "Epoch 2/40\n",
      "----------\n",
      "Train Loss: 1.0357, Acc: 0.6503\n",
      "Val   Loss: 1.3615, Acc: 0.5685\n",
      "--------------------\n",
      "Epoch 3/40\n",
      "----------\n",
      "Train Loss: 0.8652, Acc: 0.7163\n",
      "Val   Loss: 0.9882, Acc: 0.6838\n",
      "--- Best model ---\n",
      "✅ Best model saved at Epoch 3 | Val Acc: 0.6838 | Val Loss: 0.9882\n",
      "--------------------\n",
      "Epoch 4/40\n",
      "----------\n",
      "Train Loss: 0.7833, Acc: 0.7494\n",
      "Val   Loss: 0.7836, Acc: 0.7585\n",
      "--- Best model ---\n",
      "✅ Best model saved at Epoch 4 | Val Acc: 0.7585 | Val Loss: 0.7836\n",
      "--------------------\n",
      "Epoch 5/40\n",
      "----------\n",
      "Train Loss: 0.6922, Acc: 0.7832\n",
      "Val   Loss: 0.8864, Acc: 0.7258\n",
      "--------------------\n",
      "Epoch 6/40\n",
      "----------\n",
      "Train Loss: 0.6451, Acc: 0.8009\n",
      "Val   Loss: 0.7163, Acc: 0.7815\n",
      "--- Best model ---\n",
      "✅ Best model saved at Epoch 6 | Val Acc: 0.7815 | Val Loss: 0.7163\n",
      "--------------------\n",
      "Epoch 7/40\n",
      "----------\n",
      "Train Loss: 0.5989, Acc: 0.8151\n",
      "Val   Loss: 0.8042, Acc: 0.7477\n",
      "--------------------\n",
      "Epoch 8/40\n",
      "----------\n",
      "Train Loss: 0.5722, Acc: 0.8310\n",
      "Val   Loss: 0.8128, Acc: 0.7558\n",
      "--------------------\n",
      "Epoch 9/40\n",
      "----------\n",
      "Train Loss: 0.5285, Acc: 0.8503\n",
      "Val   Loss: 0.9258, Acc: 0.7231\n",
      "--------------------\n",
      "Epoch 10/40\n",
      "----------\n",
      "Train Loss: 0.4896, Acc: 0.8651\n",
      "Val   Loss: 0.5944, Acc: 0.8277\n",
      "--- Best model ---\n",
      "✅ Best model saved at Epoch 10 | Val Acc: 0.8277 | Val Loss: 0.5944\n",
      "--------------------\n",
      "Epoch 11/40\n",
      "----------\n",
      "Train Loss: 0.3720, Acc: 0.9140\n",
      "Val   Loss: 0.4481, Acc: 0.8746\n",
      "--- Best model ---\n",
      "✅ Best model saved at Epoch 11 | Val Acc: 0.8746 | Val Loss: 0.4481\n",
      "--------------------\n",
      "Epoch 12/40\n",
      "----------\n",
      "Train Loss: 0.3340, Acc: 0.9295\n",
      "Val   Loss: 0.4374, Acc: 0.8731\n",
      "--------------------\n",
      "Epoch 13/40\n",
      "----------\n",
      "Train Loss: 0.3177, Acc: 0.9350\n",
      "Val   Loss: 0.4316, Acc: 0.8769\n",
      "--- Best model ---\n",
      "✅ Best model saved at Epoch 13 | Val Acc: 0.8769 | Val Loss: 0.4316\n",
      "--------------------\n",
      "Epoch 14/40\n",
      "----------\n",
      "Train Loss: 0.3044, Acc: 0.9433\n",
      "Val   Loss: 0.4380, Acc: 0.8735\n",
      "--------------------\n",
      "Epoch 15/40\n",
      "----------\n",
      "Train Loss: 0.2910, Acc: 0.9497\n",
      "Val   Loss: 0.4332, Acc: 0.8773\n",
      "--- Best model ---\n",
      "✅ Best model saved at Epoch 15 | Val Acc: 0.8773 | Val Loss: 0.4332\n",
      "--------------------\n",
      "Epoch 16/40\n",
      "----------\n",
      "Train Loss: 0.2809, Acc: 0.9544\n",
      "Val   Loss: 0.4259, Acc: 0.8819\n",
      "--- Best model ---\n",
      "✅ Best model saved at Epoch 16 | Val Acc: 0.8819 | Val Loss: 0.4259\n",
      "--------------------\n",
      "Epoch 17/40\n",
      "----------\n",
      "Train Loss: 0.2731, Acc: 0.9610\n",
      "Val   Loss: 0.4239, Acc: 0.8762\n",
      "--------------------\n",
      "Epoch 18/40\n",
      "----------\n",
      "Train Loss: 0.2628, Acc: 0.9645\n",
      "Val   Loss: 0.4292, Acc: 0.8815\n",
      "--------------------\n",
      "Epoch 19/40\n",
      "----------\n",
      "Train Loss: 0.2457, Acc: 0.9735\n",
      "Val   Loss: 0.4481, Acc: 0.8696\n",
      "--------------------\n",
      "Epoch 20/40\n",
      "----------\n",
      "Train Loss: 0.2342, Acc: 0.9788\n",
      "Val   Loss: 0.4304, Acc: 0.8754\n",
      "--------------------\n",
      "Epoch 21/40\n",
      "----------\n",
      "Train Loss: 0.2211, Acc: 0.9845\n",
      "Val   Loss: 0.4208, Acc: 0.8842\n",
      "--- Best model ---\n",
      "✅ Best model saved at Epoch 21 | Val Acc: 0.8842 | Val Loss: 0.4208\n",
      "--------------------\n",
      "Epoch 22/40\n",
      "----------\n",
      "Train Loss: 0.2167, Acc: 0.9860\n",
      "Val   Loss: 0.4213, Acc: 0.8838\n",
      "--------------------\n",
      "Epoch 23/40\n",
      "----------\n",
      "Train Loss: 0.2113, Acc: 0.9855\n",
      "Val   Loss: 0.4204, Acc: 0.8819\n",
      "--------------------\n",
      "Epoch 24/40\n",
      "----------\n",
      "Train Loss: 0.2108, Acc: 0.9873\n",
      "Val   Loss: 0.4196, Acc: 0.8838\n",
      "--------------------\n",
      "Epoch 25/40\n",
      "----------\n",
      "Train Loss: 0.2124, Acc: 0.9868\n",
      "Val   Loss: 0.4201, Acc: 0.8842\n",
      "--- Best model ---\n",
      "✅ Best model saved at Epoch 25 | Val Acc: 0.8842 | Val Loss: 0.4201\n",
      "--------------------\n",
      "Epoch 26/40\n",
      "----------\n",
      "Train Loss: 0.2104, Acc: 0.9887\n",
      "Val   Loss: 0.4228, Acc: 0.8808\n",
      "--------------------\n",
      "Epoch 27/40\n",
      "----------\n",
      "Train Loss: 0.2056, Acc: 0.9888\n",
      "Val   Loss: 0.4259, Acc: 0.8823\n",
      "--------------------\n",
      "Epoch 28/40\n",
      "----------\n",
      "Train Loss: 0.2060, Acc: 0.9892\n",
      "Val   Loss: 0.4210, Acc: 0.8827\n",
      "--------------------\n",
      "Epoch 29/40\n",
      "----------\n",
      "Train Loss: 0.2059, Acc: 0.9886\n",
      "Val   Loss: 0.4223, Acc: 0.8838\n",
      "--------------------\n",
      "Epoch 30/40\n",
      "----------\n",
      "Train Loss: 0.2046, Acc: 0.9908\n",
      "Val   Loss: 0.4242, Acc: 0.8819\n",
      "--------------------\n",
      "Epoch 31/40\n",
      "----------\n",
      "Train Loss: 0.2016, Acc: 0.9904\n",
      "Val   Loss: 0.4222, Acc: 0.8838\n",
      "--------------------\n",
      "Epoch 32/40\n",
      "----------\n",
      "Train Loss: 0.2012, Acc: 0.9910\n",
      "Val   Loss: 0.4196, Acc: 0.8831\n",
      "--------------------\n",
      "Epoch 33/40\n",
      "----------\n",
      "Train Loss: 0.2032, Acc: 0.9897\n",
      "Val   Loss: 0.4206, Acc: 0.8815\n",
      "--------------------\n",
      "Epoch 34/40\n",
      "----------\n",
      "Train Loss: 0.2033, Acc: 0.9905\n",
      "Val   Loss: 0.4194, Acc: 0.8823\n",
      "--------------------\n",
      "Epoch 35/40\n",
      "----------\n",
      "Train Loss: 0.2021, Acc: 0.9910\n",
      "Val   Loss: 0.4229, Acc: 0.8838\n",
      "--------------------\n",
      "Epoch 36/40\n",
      "----------\n",
      "Train Loss: 0.2014, Acc: 0.9896\n",
      "Val   Loss: 0.4198, Acc: 0.8819\n",
      "--------------------\n",
      "Epoch 37/40\n",
      "----------\n",
      "Train Loss: 0.2011, Acc: 0.9905\n",
      "Val   Loss: 0.4220, Acc: 0.8831\n",
      "--------------------\n",
      "Epoch 38/40\n",
      "----------\n",
      "Train Loss: 0.2016, Acc: 0.9919\n",
      "Val   Loss: 0.4221, Acc: 0.8812\n",
      "--------------------\n",
      "Epoch 39/40\n",
      "----------\n",
      "Train Loss: 0.1998, Acc: 0.9917\n",
      "Val   Loss: 0.4212, Acc: 0.8838\n",
      "--------------------\n",
      "Epoch 40/40\n",
      "----------\n",
      "Train Loss: 0.2011, Acc: 0.9917\n",
      "Val   Loss: 0.4219, Acc: 0.8823\n"
     ]
    }
   ],
   "source": [
    "# TODO: 5. Train ResNet18 and save the best-performing parameters to 'resnet18_checkpoint.pkl'.\n",
    "# Hint: Use the correct loss function for knowledge distillation.\n",
    "#       Details can be fund in https://docs.pytorch.org/tutorials/beginner/knowledge_distillation_tutorial.html.\n",
    "\n",
    "train_accs_resnet18, train_losses_resnet18, val_accs_resnet18, val_losses_resnet18 = [], [], [], []\n",
    "\n",
    "best_val_acc = 0.0\n",
    "\n",
    "# Convert label arrays to torch tensors (if not already)\n",
    "labels_train_index = torch.tensor(labels_train_index, dtype=torch.long)\n",
    "labels_val_index = torch.tensor(labels_val_index, dtype=torch.long)\n",
    "\n",
    "# Create PyTorch dataset and dataloader for training\n",
    "train_dataset = TensorDataset(tensor_train, labels_train_index)\n",
    "train_loader = DataLoader(\n",
    "    train_dataset,\n",
    "    batch_size=BATCH_SIZE,\n",
    "    shuffle=True,      # Shuffle data for each epoch\n",
    "    num_workers=4,     # Use 4 worker processes for data loading\n",
    "    pin_memory=True    # Pin memory for faster GPU transfer\n",
    ")\n",
    "\n",
    "for epoch in range(MAX_EPOCH):\n",
    "    print(\"-\" * 20)\n",
    "    print(f\"Epoch {epoch+1}/{MAX_EPOCH}\")\n",
    "    print(\"-\" * 10)\n",
    "\n",
    "    # ---------- Train ----------\n",
    "    resnet18.train()  # Set model to training mode\n",
    "    train_loss, train_corrects = 0.0, 0\n",
    "\n",
    "    for inputs, labels in train_loader:\n",
    "        inputs, labels = inputs.to(device), labels.to(device)  # Move data to device (CPU/GPU)\n",
    "        optimizer.zero_grad()  # Clear gradients from previous step\n",
    "\n",
    "        # Student output (ResNet18)\n",
    "        outputs_student = resnet18(inputs)\n",
    "        # Teacher output (ResNet34, no grad)\n",
    "        with torch.no_grad():\n",
    "            outputs_teacher = resnet34(inputs)\n",
    "\n",
    "        # Cross-entropy loss: student vs. ground truth labels\n",
    "        loss_ce = F.cross_entropy(outputs_student, labels)\n",
    "        # Distillation loss: student vs. teacher (soft targets)\n",
    "        loss_kd = F.kl_div(\n",
    "            F.log_softmax(outputs_student / TEMPERATURE, dim=1),\n",
    "            F.softmax(outputs_teacher / TEMPERATURE, dim=1),\n",
    "            reduction='batchmean'\n",
    "        ) * (TEMPERATURE ** 2)\n",
    "\n",
    "        # Total loss: weighted sum of distillation and cross-entropy loss\n",
    "        loss = LOSS_RATIO * loss_kd + (1 - LOSS_RATIO) * loss_ce\n",
    "\n",
    "        loss.backward()  # Backpropagation\n",
    "        optimizer.step()  # Update model parameters\n",
    "\n",
    "        train_loss += loss.item() * inputs.size(0)  # Accumulate loss\n",
    "        _, preds = torch.max(outputs_student, 1)  # Get predicted class indices\n",
    "        train_corrects += torch.sum(preds == labels)  # Count correct predictions\n",
    "\n",
    "    epoch_train_loss = train_loss / len(tensor_train)  # Average training loss\n",
    "    epoch_train_acc = train_corrects.double() / len(tensor_train)  # Training accuracy\n",
    "\n",
    "    train_losses_resnet18.append(epoch_train_loss)\n",
    "    train_accs_resnet18.append(epoch_train_acc.item())\n",
    "\n",
    "    # ---------- Validation ----------\n",
    "    resnet18.eval()  # Set model to evaluation mode (disables dropout, etc.)\n",
    "    val_loss, val_corrects = 0.0, 0\n",
    "    all_preds = []\n",
    "    all_labels = []\n",
    "\n",
    "    with torch.no_grad():  # Disable gradient computation for validation\n",
    "        for i in range(0, len(tensor_val), BATCH_SIZE):\n",
    "            inputs = tensor_val[i:i+BATCH_SIZE].to(device)\n",
    "            labels = labels_val_index[i:i+BATCH_SIZE].to(device)\n",
    "\n",
    "            outputs = resnet18(inputs)\n",
    "            loss = F.cross_entropy(outputs, labels)\n",
    "\n",
    "            val_loss += loss.item() * inputs.size(0)\n",
    "            _, preds = torch.max(outputs, 1)\n",
    "            val_corrects += torch.sum(preds == labels)\n",
    "\n",
    "            all_preds.extend(preds.cpu().tolist())\n",
    "            all_labels.extend(labels.cpu().tolist())\n",
    "\n",
    "    epoch_val_loss = val_loss / len(tensor_val)  # Average validation loss\n",
    "    epoch_val_acc = val_corrects.double() / len(tensor_val)  # Validation accuracy\n",
    "\n",
    "    val_losses_resnet18.append(epoch_val_loss)\n",
    "    val_accs_resnet18.append(epoch_val_acc.item())\n",
    "\n",
    "    print(f\"Train Loss: {epoch_train_loss:.4f}, Acc: {epoch_train_acc:.4f}\")\n",
    "    print(f\"Val   Loss: {epoch_val_loss:.4f}, Acc: {epoch_val_acc:.4f}\")\n",
    "\n",
    "    scheduler.step()  # Update learning rate\n",
    "\n",
    "    # ---------- Save Best ----------\n",
    "    is_better = False\n",
    "    # Save model if validation accuracy improves, or if accuracy is tied but loss improves\n",
    "    if epoch_val_acc > best_val_acc:\n",
    "        is_better = True\n",
    "    elif epoch_val_acc == best_val_acc and epoch_val_loss < best_val_loss:\n",
    "        is_better = True\n",
    "\n",
    "    if is_better:\n",
    "        best_val_acc = epoch_val_acc\n",
    "        best_val_loss = epoch_val_loss  \n",
    "        torch.save(resnet18.state_dict(), \"../models/resnet18_checkpoint.pkl\")  # Save model weights\n",
    "        print(\"--- Best model ---\")\n",
    "        print(f\"✅ Best model saved at Epoch {epoch+1} | Val Acc: {epoch_val_acc:.4f} | Val Loss: {epoch_val_loss:.4f}\")"
   ]
  },
  {
   "cell_type": "markdown",
   "id": "a72d2924",
   "metadata": {},
   "source": [
    "### - TODO: 6. Plot the loss and accuracy curves."
   ]
  },
  {
   "cell_type": "code",
   "execution_count": 24,
   "id": "260396b6b143a422",
   "metadata": {
    "ExecuteTime": {
     "end_time": "2025-05-10T03:04:33.157515Z",
     "start_time": "2025-05-10T03:04:32.960493Z"
    },
    "collapsed": false
   },
   "outputs": [
    {
     "data": {
      "image/png": "[encoded data removed]",
      "text/plain": [
       "<Figure size 1200x500 with 2 Axes>"
      ]
     },
     "metadata": {},
     "output_type": "display_data"
    }
   ],
   "source": [
    "# TODO: 6. Plot the loss and accuracy curves.\n",
    "\n",
    "plt.figure(figsize=(12, 5))\n",
    "\n",
    "plt.subplot(1, 2, 1)\n",
    "plt.plot(train_losses_resnet18, label='Train Loss')\n",
    "plt.plot(val_losses_resnet18, label='Val Loss')\n",
    "plt.xlabel('Epoch')\n",
    "plt.ylabel('Loss')\n",
    "plt.title('ResNet18 Loss Curve')\n",
    "plt.legend()\n",
    "\n",
    "plt.subplot(1, 2, 2)\n",
    "plt.plot(train_accs_resnet18, label='Train Acc')\n",
    "plt.plot(val_accs_resnet18, label='Val Acc')\n",
    "plt.xlabel('Epoch')\n",
    "plt.ylabel('Accuracy')\n",
    "plt.title('ResNet18 Accuracy Curve')\n",
    "plt.legend()\n",
    "\n",
    "plt.tight_layout()\n",
    "plt.show()"
   ]
  },
  {
   "cell_type": "markdown",
   "id": "730790a6c4e96912",
   "metadata": {
    "collapsed": false
   },
   "source": [
    "# Step 4 Predict labels in the testing set\n",
    "1. Load the saved ResNet18 and move it to the selected device.\n",
    "2. Do prediction using the images in the testing set.\n",
    "3. Write the results into the CSV file for submission."
   ]
  },
  {
   "cell_type": "code",
   "execution_count": 25,
   "id": "d2a8f6f703b42a0a",
   "metadata": {
    "collapsed": false
   },
   "outputs": [
    {
     "name": "stderr",
     "output_type": "stream",
     "text": [
      "C:\\Users\\Lenovo\\AppData\\Local\\Temp\\ipykernel_17240\\3694752944.py:9: FutureWarning: You are using `torch.load` with `weights_only=False` (the current default value), which uses the default pickle module implicitly. It is possible to construct malicious pickle data which will execute arbitrary code during unpickling (See https://github.com/pytorch/pytorch/blob/main/SECURITY.md#untrusted-models for more details). In a future release, the default value for `weights_only` will be flipped to `True`. This limits the functions that could be executed during unpickling. Arbitrary objects will no longer be allowed to be loaded via this mode unless they are explicitly allowlisted by the user via `torch.serialization.add_safe_globals`. We recommend you start setting `weights_only=True` for any use case where you don't have full control of the loaded file. Please open an issue on GitHub for any issues related to this experimental feature.\n",
      "  resnet18.load_state_dict(torch.load(\"../models/resnet18_checkpoint.pkl\", map_location=device))\n"
     ]
    },
    {
     "data": {
      "text/plain": [
       "ResNet(\n",
       "  (conv1): Conv2d(3, 64, kernel_size=(7, 7), stride=(2, 2), padding=(3, 3), bias=False)\n",
       "  (bn1): BatchNorm2d(64, eps=1e-05, momentum=0.1, affine=True, track_running_stats=True)\n",
       "  (relu): ReLU(inplace=True)\n",
       "  (maxpool): MaxPool2d(kernel_size=3, stride=2, padding=1, dilation=1, ceil_mode=False)\n",
       "  (layer1): Sequential(\n",
       "    (0): BasicBlock(\n",
       "      (conv1): Conv2d(64, 64, kernel_size=(3, 3), stride=(1, 1), padding=(1, 1), bias=False)\n",
       "      (bn1): BatchNorm2d(64, eps=1e-05, momentum=0.1, affine=True, track_running_stats=True)\n",
       "      (relu): ReLU(inplace=True)\n",
       "      (conv2): Conv2d(64, 64, kernel_size=(3, 3), stride=(1, 1), padding=(1, 1), bias=False)\n",
       "      (bn2): BatchNorm2d(64, eps=1e-05, momentum=0.1, affine=True, track_running_stats=True)\n",
       "    )\n",
       "    (1): BasicBlock(\n",
       "      (conv1): Conv2d(64, 64, kernel_size=(3, 3), stride=(1, 1), padding=(1, 1), bias=False)\n",
       "      (bn1): BatchNorm2d(64, eps=1e-05, momentum=0.1, affine=True, track_running_stats=True)\n",
       "      (relu): ReLU(inplace=True)\n",
       "      (conv2): Conv2d(64, 64, kernel_size=(3, 3), stride=(1, 1), padding=(1, 1), bias=False)\n",
       "      (bn2): BatchNorm2d(64, eps=1e-05, momentum=0.1, affine=True, track_running_stats=True)\n",
       "    )\n",
       "  )\n",
       "  (layer2): Sequential(\n",
       "    (0): BasicBlock(\n",
       "      (conv1): Conv2d(64, 128, kernel_size=(3, 3), stride=(2, 2), padding=(1, 1), bias=False)\n",
       "      (bn1): BatchNorm2d(128, eps=1e-05, momentum=0.1, affine=True, track_running_stats=True)\n",
       "      (relu): ReLU(inplace=True)\n",
       "      (conv2): Conv2d(128, 128, kernel_size=(3, 3), stride=(1, 1), padding=(1, 1), bias=False)\n",
       "      (bn2): BatchNorm2d(128, eps=1e-05, momentum=0.1, affine=True, track_running_stats=True)\n",
       "      (downsample): Sequential(\n",
       "        (0): Conv2d(64, 128, kernel_size=(1, 1), stride=(2, 2), bias=False)\n",
       "        (1): BatchNorm2d(128, eps=1e-05, momentum=0.1, affine=True, track_running_stats=True)\n",
       "      )\n",
       "    )\n",
       "    (1): BasicBlock(\n",
       "      (conv1): Conv2d(128, 128, kernel_size=(3, 3), stride=(1, 1), padding=(1, 1), bias=False)\n",
       "      (bn1): BatchNorm2d(128, eps=1e-05, momentum=0.1, affine=True, track_running_stats=True)\n",
       "      (relu): ReLU(inplace=True)\n",
       "      (conv2): Conv2d(128, 128, kernel_size=(3, 3), stride=(1, 1), padding=(1, 1), bias=False)\n",
       "      (bn2): BatchNorm2d(128, eps=1e-05, momentum=0.1, affine=True, track_running_stats=True)\n",
       "    )\n",
       "  )\n",
       "  (layer3): Sequential(\n",
       "    (0): BasicBlock(\n",
       "      (conv1): Conv2d(128, 256, kernel_size=(3, 3), stride=(2, 2), padding=(1, 1), bias=False)\n",
       "      (bn1): BatchNorm2d(256, eps=1e-05, momentum=0.1, affine=True, track_running_stats=True)\n",
       "      (relu): ReLU(inplace=True)\n",
       "      (conv2): Conv2d(256, 256, kernel_size=(3, 3), stride=(1, 1), padding=(1, 1), bias=False)\n",
       "      (bn2): BatchNorm2d(256, eps=1e-05, momentum=0.1, affine=True, track_running_stats=True)\n",
       "      (downsample): Sequential(\n",
       "        (0): Conv2d(128, 256, kernel_size=(1, 1), stride=(2, 2), bias=False)\n",
       "        (1): BatchNorm2d(256, eps=1e-05, momentum=0.1, affine=True, track_running_stats=True)\n",
       "      )\n",
       "    )\n",
       "    (1): BasicBlock(\n",
       "      (conv1): Conv2d(256, 256, kernel_size=(3, 3), stride=(1, 1), padding=(1, 1), bias=False)\n",
       "      (bn1): BatchNorm2d(256, eps=1e-05, momentum=0.1, affine=True, track_running_stats=True)\n",
       "      (relu): ReLU(inplace=True)\n",
       "      (conv2): Conv2d(256, 256, kernel_size=(3, 3), stride=(1, 1), padding=(1, 1), bias=False)\n",
       "      (bn2): BatchNorm2d(256, eps=1e-05, momentum=0.1, affine=True, track_running_stats=True)\n",
       "    )\n",
       "  )\n",
       "  (layer4): Sequential(\n",
       "    (0): BasicBlock(\n",
       "      (conv1): Conv2d(256, 512, kernel_size=(3, 3), stride=(2, 2), padding=(1, 1), bias=False)\n",
       "      (bn1): BatchNorm2d(512, eps=1e-05, momentum=0.1, affine=True, track_running_stats=True)\n",
       "      (relu): ReLU(inplace=True)\n",
       "      (conv2): Conv2d(512, 512, kernel_size=(3, 3), stride=(1, 1), padding=(1, 1), bias=False)\n",
       "      (bn2): BatchNorm2d(512, eps=1e-05, momentum=0.1, affine=True, track_running_stats=True)\n",
       "      (downsample): Sequential(\n",
       "        (0): Conv2d(256, 512, kernel_size=(1, 1), stride=(2, 2), bias=False)\n",
       "        (1): BatchNorm2d(512, eps=1e-05, momentum=0.1, affine=True, track_running_stats=True)\n",
       "      )\n",
       "    )\n",
       "    (1): BasicBlock(\n",
       "      (conv1): Conv2d(512, 512, kernel_size=(3, 3), stride=(1, 1), padding=(1, 1), bias=False)\n",
       "      (bn1): BatchNorm2d(512, eps=1e-05, momentum=0.1, affine=True, track_running_stats=True)\n",
       "      (relu): ReLU(inplace=True)\n",
       "      (conv2): Conv2d(512, 512, kernel_size=(3, 3), stride=(1, 1), padding=(1, 1), bias=False)\n",
       "      (bn2): BatchNorm2d(512, eps=1e-05, momentum=0.1, affine=True, track_running_stats=True)\n",
       "    )\n",
       "  )\n",
       "  (avgpool): AdaptiveAvgPool2d(output_size=(1, 1))\n",
       "  (fc): Sequential(\n",
       "    (0): Dropout(p=0.5, inplace=False)\n",
       "    (1): Linear(in_features=512, out_features=10, bias=True)\n",
       "  )\n",
       ")"
      ]
     },
     "execution_count": 25,
     "metadata": {},
     "output_type": "execute_result"
    }
   ],
   "source": [
    "# TODO: 1. Load the saved ResNet18 and move it to the selected device.\n",
    "# Hint: Enable the evaluation mode to prevent updating the parameters.\n",
    "\n",
    "resnet18 = torchvision.models.resnet18(weights=None)\n",
    "resnet18.fc = nn.Sequential(\n",
    "    nn.Dropout(0.5),\n",
    "    nn.Linear(resnet18.fc.in_features, num_classes)\n",
    ")\n",
    "resnet18.load_state_dict(torch.load(\"../models/resnet18_checkpoint.pkl\", map_location=device))\n",
    "resnet18 = resnet18.to(device)\n",
    "resnet18.eval()  \n"
   ]
  },
  {
   "cell_type": "markdown",
   "id": "e87de06e",
   "metadata": {},
   "source": [
    "### - TODO: 2. Do prediction using the images in the testing set."
   ]
  },
  {
   "cell_type": "code",
   "execution_count": 26,
   "id": "44ee908450e937e7",
   "metadata": {
    "ExecuteTime": {
     "end_time": "2025-05-10T03:43:20.873625Z",
     "start_time": "2025-05-10T03:43:18.999813Z"
    },
    "collapsed": false
   },
   "outputs": [],
   "source": [
    "# TODO: 2. Do prediction using the images in the testing set.\n",
    "\n",
    "predictions = []\n",
    "with torch.no_grad():  # Disable gradient calculation for inference\n",
    "    for i in range(0, tensor_test.shape[0], BATCH_SIZE):\n",
    "        inputs = tensor_test[i:i+BATCH_SIZE].to(device)  # Get a batch of test images and move to device\n",
    "        outputs = resnet18(inputs)  # Forward pass through the model\n",
    "        _, preds = torch.max(outputs, 1)  # Get predicted class indices (highest logit)\n",
    "        predictions.extend(preds.cpu().tolist())  # Store predictions as a list of integers"
   ]
  },
  {
   "cell_type": "markdown",
   "id": "371d13c2",
   "metadata": {},
   "source": [
    "### - TODO: 3. Write the results into the CSV file for submission."
   ]
  },
  {
   "cell_type": "code",
   "execution_count": 27,
   "id": "bee5ddbde0d132cf",
   "metadata": {
    "collapsed": false
   },
   "outputs": [
    {
     "name": "stdout",
     "output_type": "stream",
     "text": [
      "✅ Submission file saved to submission.csv\n"
     ]
    }
   ],
   "source": [
    "# TODO: 3. Write the results into the CSV file for submission.\n",
    "# Hint: The CSV file should be in the format of 'file_name' and 'label'.\n",
    "#       The submission.csv should look like:\n",
    "#           file_name,label\n",
    "#           0.jpg,sunglasses\n",
    "#           ...\n",
    "\n",
    "index_to_label = {idx: label for label, idx in label_to_index.items()}\n",
    "predicted_labels = [index_to_label[idx] for idx in predictions]\n",
    "file_names = [f\"{i}.jpg\" for i in range(len(predictions))]\n",
    "\n",
    "\n",
    "submission_path = \"submission.csv\"\n",
    "with open(submission_path, \"w\", newline=\"\") as f:\n",
    "    writer = csv.writer(f)\n",
    "    writer.writerow([\"file_name\", \"label\"])\n",
    "    for fname, lbl in zip(file_names, predicted_labels):\n",
    "        writer.writerow([fname, lbl])\n",
    "\n",
    "print(f\"✅ Submission file saved to {submission_path}\")\n"
   ]
  }
 ],
 "metadata": {
  "kernelspec": {
   "display_name": "MSA",
   "language": "python",
   "name": "python3"
  },
  "language_info": {
   "codemirror_mode": {
    "name": "ipython",
    "version": 3
   },
   "file_extension": ".py",
   "mimetype": "text/x-python",
   "name": "python",
   "nbconvert_exporter": "python",
   "pygments_lexer": "ipython3",
   "version": "3.10.16"
  }
 },
 "nbformat": 4,
 "nbformat_minor": 5
}
